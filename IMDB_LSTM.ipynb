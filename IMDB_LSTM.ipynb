{
  "nbformat": 4,
  "nbformat_minor": 0,
  "metadata": {
    "colab": {
      "provenance": [],
      "gpuType": "T4"
    },
    "kernelspec": {
      "name": "python3",
      "display_name": "Python 3"
    },
    "language_info": {
      "name": "python"
    },
    "accelerator": "GPU"
  },
  "cells": [
    {
      "cell_type": "code",
      "execution_count": null,
      "metadata": {
        "colab": {
          "base_uri": "https://localhost:8080/"
        },
        "id": "M4iBaM973u_8",
        "outputId": "ee8c803b-bbae-4837-8146-4c6b853fc27f"
      },
      "outputs": [
        {
          "output_type": "stream",
          "name": "stdout",
          "text": [
            "Collecting torchtext==0.6\n",
            "  Downloading torchtext-0.6.0-py3-none-any.whl (64 kB)\n",
            "\u001b[2K     \u001b[90m━━━━━━━━━━━━━━━━━━━━━━━━━━━━━━━━━━━━━━━━\u001b[0m \u001b[32m64.2/64.2 kB\u001b[0m \u001b[31m1.9 MB/s\u001b[0m eta \u001b[36m0:00:00\u001b[0m\n",
            "\u001b[?25hRequirement already satisfied: tqdm in /usr/local/lib/python3.10/dist-packages (from torchtext==0.6) (4.66.1)\n",
            "Requirement already satisfied: requests in /usr/local/lib/python3.10/dist-packages (from torchtext==0.6) (2.31.0)\n",
            "Requirement already satisfied: torch in /usr/local/lib/python3.10/dist-packages (from torchtext==0.6) (2.0.1+cu118)\n",
            "Requirement already satisfied: numpy in /usr/local/lib/python3.10/dist-packages (from torchtext==0.6) (1.23.5)\n",
            "Requirement already satisfied: six in /usr/local/lib/python3.10/dist-packages (from torchtext==0.6) (1.16.0)\n",
            "Collecting sentencepiece (from torchtext==0.6)\n",
            "  Downloading sentencepiece-0.1.99-cp310-cp310-manylinux_2_17_x86_64.manylinux2014_x86_64.whl (1.3 MB)\n",
            "\u001b[2K     \u001b[90m━━━━━━━━━━━━━━━━━━━━━━━━━━━━━━━━━━━━━━━━\u001b[0m \u001b[32m1.3/1.3 MB\u001b[0m \u001b[31m24.3 MB/s\u001b[0m eta \u001b[36m0:00:00\u001b[0m\n",
            "\u001b[?25hRequirement already satisfied: charset-normalizer<4,>=2 in /usr/local/lib/python3.10/dist-packages (from requests->torchtext==0.6) (3.2.0)\n",
            "Requirement already satisfied: idna<4,>=2.5 in /usr/local/lib/python3.10/dist-packages (from requests->torchtext==0.6) (3.4)\n",
            "Requirement already satisfied: urllib3<3,>=1.21.1 in /usr/local/lib/python3.10/dist-packages (from requests->torchtext==0.6) (2.0.4)\n",
            "Requirement already satisfied: certifi>=2017.4.17 in /usr/local/lib/python3.10/dist-packages (from requests->torchtext==0.6) (2023.7.22)\n",
            "Requirement already satisfied: filelock in /usr/local/lib/python3.10/dist-packages (from torch->torchtext==0.6) (3.12.2)\n",
            "Requirement already satisfied: typing-extensions in /usr/local/lib/python3.10/dist-packages (from torch->torchtext==0.6) (4.7.1)\n",
            "Requirement already satisfied: sympy in /usr/local/lib/python3.10/dist-packages (from torch->torchtext==0.6) (1.12)\n",
            "Requirement already satisfied: networkx in /usr/local/lib/python3.10/dist-packages (from torch->torchtext==0.6) (3.1)\n",
            "Requirement already satisfied: jinja2 in /usr/local/lib/python3.10/dist-packages (from torch->torchtext==0.6) (3.1.2)\n",
            "Requirement already satisfied: triton==2.0.0 in /usr/local/lib/python3.10/dist-packages (from torch->torchtext==0.6) (2.0.0)\n",
            "Requirement already satisfied: cmake in /usr/local/lib/python3.10/dist-packages (from triton==2.0.0->torch->torchtext==0.6) (3.27.2)\n",
            "Requirement already satisfied: lit in /usr/local/lib/python3.10/dist-packages (from triton==2.0.0->torch->torchtext==0.6) (16.0.6)\n",
            "Requirement already satisfied: MarkupSafe>=2.0 in /usr/local/lib/python3.10/dist-packages (from jinja2->torch->torchtext==0.6) (2.1.3)\n",
            "Requirement already satisfied: mpmath>=0.19 in /usr/local/lib/python3.10/dist-packages (from sympy->torch->torchtext==0.6) (1.3.0)\n",
            "Installing collected packages: sentencepiece, torchtext\n",
            "  Attempting uninstall: torchtext\n",
            "    Found existing installation: torchtext 0.15.2\n",
            "    Uninstalling torchtext-0.15.2:\n",
            "      Successfully uninstalled torchtext-0.15.2\n",
            "Successfully installed sentencepiece-0.1.99 torchtext-0.6.0\n"
          ]
        }
      ],
      "source": [
        "!pip install torchtext==0.6"
      ]
    },
    {
      "cell_type": "code",
      "source": [
        "import torch\n",
        "from torchtext import data\n",
        "import torchtext\n",
        "\n",
        "SEED = 1234\n",
        "torch.manual_seed(SEED)\n",
        "torch.backends.cudnn.deterministic = True\n",
        "\n",
        "Text = data.Field(tokenizer_language='en_core_web_sm',\n",
        "                   include_lengths=True,\n",
        "                   tokenize='spacy')\n",
        "Label=data.LabelField(dtype=torch.float)"
      ],
      "metadata": {
        "id": "77nBKd4_31Hq"
      },
      "execution_count": null,
      "outputs": []
    },
    {
      "cell_type": "code",
      "source": [
        "from torchtext import datasets\n",
        "train_data , test_data = datasets.IMDB.splits(Text,Label)"
      ],
      "metadata": {
        "colab": {
          "base_uri": "https://localhost:8080/"
        },
        "id": "AYL7nSpf47qd",
        "outputId": "a8bc9987-c4a9-45eb-ccdd-6cf50de7ca43"
      },
      "execution_count": null,
      "outputs": [
        {
          "output_type": "stream",
          "name": "stdout",
          "text": [
            "downloading aclImdb_v1.tar.gz\n"
          ]
        },
        {
          "output_type": "stream",
          "name": "stderr",
          "text": [
            "aclImdb_v1.tar.gz: 100%|██████████| 84.1M/84.1M [00:02<00:00, 33.7MB/s]\n"
          ]
        }
      ]
    },
    {
      "cell_type": "code",
      "source": [
        "import random\n",
        "\n",
        "train_data,valid_data = train_data.split(random_state = random.seed(SEED))"
      ],
      "metadata": {
        "id": "ENmgvjW-47op"
      },
      "execution_count": null,
      "outputs": []
    },
    {
      "cell_type": "code",
      "source": [
        "MAX_VOCAB = 25_000\n",
        "\n",
        "Text.build_vocab(train_data,max_size=MAX_VOCAB,\n",
        "                vectors = 'glove.6B.100d',\n",
        "                unk_init = torch.Tensor.normal_)\n",
        "Label.build_vocab(train_data)"
      ],
      "metadata": {
        "colab": {
          "base_uri": "https://localhost:8080/"
        },
        "id": "Tu7jhSLV7Khw",
        "outputId": "aba18ce8-7ce6-49bf-969c-0bf5cf86e587"
      },
      "execution_count": null,
      "outputs": [
        {
          "output_type": "stream",
          "name": "stderr",
          "text": [
            ".vector_cache/glove.6B.zip: 862MB [02:40, 5.36MB/s]                           \n",
            "100%|█████████▉| 399999/400000 [00:20<00:00, 19918.86it/s]\n"
          ]
        }
      ]
    },
    {
      "cell_type": "code",
      "source": [
        "BATCH_SIZE = 64\n",
        "\n",
        "device = torch.device('cuda' if torch.cuda.is_available() else 'cpu')\n",
        "\n",
        "train_iterator , test_iterator , valid_iterator = data.BucketIterator.splits(\n",
        "    (train_data,test_data,valid_data),\n",
        "    batch_size= BATCH_SIZE,\n",
        "    device = device,\n",
        "    sort_within_batch = True\n",
        ")"
      ],
      "metadata": {
        "id": "J6WQjnEt9Eld"
      },
      "execution_count": null,
      "outputs": []
    },
    {
      "cell_type": "markdown",
      "source": [
        "#model"
      ],
      "metadata": {
        "id": "0snv4Dxl-5GY"
      }
    },
    {
      "cell_type": "code",
      "source": [
        "from torch import nn\n",
        "class RNN(nn.Module):\n",
        "    def __init__(self,input_dim,embedding_dim,hidden_dim,output_dim,num_layers,bidirectional,dropout,pad_idx):\n",
        "        super(RNN,self).__init__()\n",
        "\n",
        "        self.embedding=nn.Embedding(input_dim,embedding_dim,padding_idx = pad_idx)\n",
        "\n",
        "        self.lstm = nn.LSTM(embedding_dim,hidden_dim,num_layers=num_layers,dropout=dropout,bidirectional=bidirectional)\n",
        "\n",
        "        self.dropout = nn.Dropout(dropout)\n",
        "\n",
        "        self.fc = nn.Linear(hidden_dim *2 ,output_dim)\n",
        "\n",
        "    def forward(self,text,text_length):\n",
        "\n",
        "        embedding = self.dropout(self.embedding(text))\n",
        "\n",
        "        packed_embedding = nn.utils.rnn.pack_padded_sequence(embedding,text_length.to('cpu'))\n",
        "\n",
        "        packed_output , (hidden,cell) = self.lstm(packed_embedding)\n",
        "\n",
        "        output , output_length = nn.utils.rnn.pad_packed_sequence(packed_output)\n",
        "\n",
        "        hidden = self.dropout(torch.cat((hidden[-2,:,:],hidden[-1,:,:]),dim=1))\n",
        "\n",
        "        return self.fc(hidden)"
      ],
      "metadata": {
        "id": "XdcTd90E-ieR"
      },
      "execution_count": null,
      "outputs": []
    },
    {
      "cell_type": "code",
      "source": [
        "input_dim=len(Text.vocab)\n",
        "embedding_dim = 100\n",
        "hidden_dim = 256\n",
        "output_dim = 1\n",
        "num_layers=2\n",
        "bidirectional = True\n",
        "dropout = 0.5\n",
        "pad_idx = Text.vocab.stoi[Text.pad_token]\n",
        "\n",
        "model = RNN(input_dim,embedding_dim,hidden_dim,output_dim,num_layers,bidirectional,dropout,pad_idx)"
      ],
      "metadata": {
        "id": "oWazLitN-8lw"
      },
      "execution_count": null,
      "outputs": []
    },
    {
      "cell_type": "code",
      "source": [
        "pretrained_weights = Text.vocab.vectors"
      ],
      "metadata": {
        "id": "-CLif92D-8VW"
      },
      "execution_count": null,
      "outputs": []
    },
    {
      "cell_type": "code",
      "source": [
        "model.embedding.weight.data.copy_(pretrained_weights)"
      ],
      "metadata": {
        "colab": {
          "base_uri": "https://localhost:8080/"
        },
        "id": "s_BCCiRvQgzg",
        "outputId": "1e225828-2580-4a0b-f6ba-1849cb75533e"
      },
      "execution_count": null,
      "outputs": [
        {
          "output_type": "execute_result",
          "data": {
            "text/plain": [
              "tensor([[-0.1117, -0.4966,  0.1631,  ...,  1.2647, -0.2753, -0.1325],\n",
              "        [-0.8555, -0.7208,  1.3755,  ...,  0.0825, -1.1314,  0.3997],\n",
              "        [-0.0382, -0.2449,  0.7281,  ..., -0.1459,  0.8278,  0.2706],\n",
              "        ...,\n",
              "        [ 0.4337,  1.4285,  1.0520,  ..., -0.0274, -0.8621,  0.8455],\n",
              "        [ 0.8448, -0.5013, -0.5840,  ...,  0.1304, -0.1945, -0.0420],\n",
              "        [-0.4625, -0.1248, -0.3915,  ..., -0.7118,  0.0469,  0.4989]])"
            ]
          },
          "metadata": {},
          "execution_count": 70
        }
      ]
    },
    {
      "cell_type": "code",
      "source": [
        "unk_idx = Text.vocab.stoi[Text.unk_token]\n",
        "\n",
        "model.embedding.weight.data[pad_idx]=torch.zeros(embedding_dim)\n",
        "model.embedding.weight.data[unk_idx]=torch.zeros(embedding_dim)"
      ],
      "metadata": {
        "id": "sx8BV3hfQgly"
      },
      "execution_count": null,
      "outputs": []
    },
    {
      "cell_type": "markdown",
      "source": [
        "#config"
      ],
      "metadata": {
        "id": "TGewD4b2-_0X"
      }
    },
    {
      "cell_type": "code",
      "source": [
        "criterion = nn.BCEWithLogitsLoss()"
      ],
      "metadata": {
        "id": "0hCKIGcz--Uo"
      },
      "execution_count": null,
      "outputs": []
    },
    {
      "cell_type": "code",
      "source": [
        "optimizer = torch.optim.Adam(model.parameters())"
      ],
      "metadata": {
        "id": "wxQxnIz0_-9f"
      },
      "execution_count": null,
      "outputs": []
    },
    {
      "cell_type": "code",
      "source": [
        "def binary_accuracy(pred,y):\n",
        "\n",
        "    rounded_preds = torch.round(torch.sigmoid(pred))\n",
        "    corrects = (y==rounded_preds).float()\n",
        "    acc = sum(corrects) / len(corrects)\n",
        "    return acc"
      ],
      "metadata": {
        "id": "C2gCRUntAtIP"
      },
      "execution_count": null,
      "outputs": []
    },
    {
      "cell_type": "code",
      "source": [
        "binary_accuracy(torch.tensor([1,0,0,1]),torch.tensor([1,1,0,0])).item()"
      ],
      "metadata": {
        "colab": {
          "base_uri": "https://localhost:8080/"
        },
        "id": "fKkgzZYhTM3f",
        "outputId": "6a8eb675-238f-473a-bd1c-a17d666df4f3"
      },
      "execution_count": null,
      "outputs": [
        {
          "output_type": "execute_result",
          "data": {
            "text/plain": [
              "0.5"
            ]
          },
          "metadata": {},
          "execution_count": 75
        }
      ]
    },
    {
      "cell_type": "code",
      "source": [
        "model.to(device)\n",
        "criterion.to(device)"
      ],
      "metadata": {
        "colab": {
          "base_uri": "https://localhost:8080/"
        },
        "id": "xlECZYfsWT16",
        "outputId": "0f4e3760-e4b7-48f1-911a-1f938ab2e2cb"
      },
      "execution_count": null,
      "outputs": [
        {
          "output_type": "execute_result",
          "data": {
            "text/plain": [
              "BCEWithLogitsLoss()"
            ]
          },
          "metadata": {},
          "execution_count": 76
        }
      ]
    },
    {
      "cell_type": "code",
      "source": [
        "def train(model,iterator,criterion,optimizer):\n",
        "\n",
        "    epoch_loss = 0\n",
        "    epoch_acc = 0\n",
        "\n",
        "    model.train()\n",
        "\n",
        "    for batch in iterator:\n",
        "\n",
        "        optimizer.zero_grad()\n",
        "        text,text_length = batch.text\n",
        "\n",
        "        pred=model(text,text_length).squeeze(1)\n",
        "\n",
        "        loss = criterion(pred,batch.label)\n",
        "\n",
        "        epoch_loss += loss.item()\n",
        "        epoch_acc += binary_accuracy(pred,batch.label).item()\n",
        "\n",
        "        loss.backward()\n",
        "        optimizer.step()\n",
        "\n",
        "    return epoch_loss/len(iterator) , epoch_acc/len(iterator)"
      ],
      "metadata": {
        "id": "e943gGQgAQPO"
      },
      "execution_count": null,
      "outputs": []
    },
    {
      "cell_type": "code",
      "source": [
        "def evaluation(model,iterator,criterion):\n",
        "\n",
        "    epoch_loss = 0\n",
        "    epoch_acc = 0\n",
        "\n",
        "    model.eval()\n",
        "\n",
        "    with torch.no_grad():\n",
        "\n",
        "        for batch in iterator:\n",
        "\n",
        "            text,text_length = batch.text\n",
        "\n",
        "            pred=model(text,text_length).squeeze(1)\n",
        "            loss = criterion(pred,batch.label)\n",
        "            acc=binary_accuracy(pred,batch.label)\n",
        "\n",
        "            epoch_loss += loss.item()\n",
        "            epoch_acc +=acc.item()\n",
        "\n",
        "\n",
        "        return epoch_loss/len(iterator) , epoch_acc/len(iterator)"
      ],
      "metadata": {
        "id": "j_oQpMafEZIo"
      },
      "execution_count": null,
      "outputs": []
    },
    {
      "cell_type": "code",
      "source": [
        "import time\n",
        "\n",
        "def epoch_time(start_time,end_time):\n",
        "\n",
        "    elapsed_time = end_time - start_time\n",
        "    min_elapsed = int(elapsed_time/60)\n",
        "    sec_elapsed = int(elapsed_time-min_elapsed*60)\n",
        "\n",
        "    return min_elapsed , sec_elapsed"
      ],
      "metadata": {
        "id": "l83tdOIHFGgv"
      },
      "execution_count": null,
      "outputs": []
    },
    {
      "cell_type": "code",
      "source": [
        "N_EPOCH = 5\n",
        "best_valid_loss = float('inf')\n",
        "\n",
        "for epoch in range(N_EPOCH):\n",
        "    start_time = time.time()\n",
        "\n",
        "    train_loss,train_acc = train(model,train_iterator,criterion,optimizer)\n",
        "    valid_loss , valid_acc = evaluation(model,valid_iterator,criterion)\n",
        "\n",
        "    end_time = time.time()\n",
        "\n",
        "    elapsed_min,elapsed_sec = epoch_time(start_time,end_time)\n",
        "\n",
        "    if valid_loss < best_valid_loss:\n",
        "        best_valid_loss = valid_loss\n",
        "        torch.save(model.state_dict(),'model-tut3.pt')\n",
        "\n",
        "    print(f'Epoch {epoch+1:02} Epoch Time: {elapsed_min}m , {elapsed_sec}s')\n",
        "    print(f'\\tTrain Loss: {train_loss:.3f} , Train Acc:{train_acc*100:.2f}%')\n",
        "    print(f'\\tValid Loss: {valid_loss:.3f} , Valid Acc:{valid_acc*100:.2f}%')"
      ],
      "metadata": {
        "colab": {
          "base_uri": "https://localhost:8080/"
        },
        "id": "f79h4AdiF5Sf",
        "outputId": "755f786a-cc79-4fb4-b544-6e121fa121c7"
      },
      "execution_count": null,
      "outputs": [
        {
          "output_type": "stream",
          "name": "stdout",
          "text": [
            "Epoch 01 Epoch Time: 0m , 36s\n",
            "\tTrain Loss: 0.659 , Train Acc:60.36%\n",
            "\tValid Loss: 0.606 , Valid Acc:62.05%\n",
            "Epoch 02 Epoch Time: 0m , 36s\n",
            "\tTrain Loss: 0.625 , Train Acc:64.38%\n",
            "\tValid Loss: 0.462 , Valid Acc:79.75%\n",
            "Epoch 03 Epoch Time: 0m , 36s\n",
            "\tTrain Loss: 0.530 , Train Acc:74.35%\n",
            "\tValid Loss: 0.420 , Valid Acc:83.49%\n",
            "Epoch 04 Epoch Time: 0m , 36s\n",
            "\tTrain Loss: 0.395 , Train Acc:82.94%\n",
            "\tValid Loss: 0.344 , Valid Acc:86.81%\n",
            "Epoch 05 Epoch Time: 0m , 36s\n",
            "\tTrain Loss: 0.317 , Train Acc:86.95%\n",
            "\tValid Loss: 0.291 , Valid Acc:88.26%\n"
          ]
        }
      ]
    },
    {
      "cell_type": "code",
      "source": [
        "model.load_state_dict(torch.load('model-tut3.pt'))\n",
        "\n",
        "test_loss , test_acc = evaluation(model,test_iterator,criterion)\n",
        "print(f'\\tTest Loss: {test_loss:.3f} , Test Acc:{test_acc*100:.2f}%')"
      ],
      "metadata": {
        "id": "qr8v9XxZGNsY",
        "colab": {
          "base_uri": "https://localhost:8080/"
        },
        "outputId": "33584277-e7d0-490d-c66c-56a168ba11c4"
      },
      "execution_count": null,
      "outputs": [
        {
          "output_type": "stream",
          "name": "stdout",
          "text": [
            "\tTest Loss: 0.309 , Test Acc:87.07%\n"
          ]
        }
      ]
    },
    {
      "cell_type": "code",
      "source": [],
      "metadata": {
        "id": "7IyAWCGfGOwg"
      },
      "execution_count": null,
      "outputs": []
    }
  ]
}